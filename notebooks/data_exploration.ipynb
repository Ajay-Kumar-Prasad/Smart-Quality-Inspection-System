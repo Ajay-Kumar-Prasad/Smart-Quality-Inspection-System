{
 "cells": [
  {
   "cell_type": "markdown",
   "metadata": {},
   "source": [
    "# MLflow data tracking"
   ]
  },
  {
   "cell_type": "code",
   "execution_count": null,
   "metadata": {},
   "outputs": [],
   "source": [
    "import mlflow\n",
    "import os\n",
    "\n",
    "mlflow.set_tracking_uri(\"file:./mlruns\")\n",
    "mlflow.set_experiment(\"data_versioning\")\n",
    "\n",
    "data_path = \"/Users/ajayyy/Desktop/Deep_Learning/Smart-Quality-Inspection-System/data/processed\"\n",
    "\n",
    "with mlflow.start_run() as run:\n",
    "    mlflow.log_param(\"dataset_version\", \"v1.0\")\n",
    "    mlflow.log_artifact(data_path)\n",
    "    print(f\"Run ID: {run.info.run_id}\")\n",
    "    print(f\"Artifacts saved to: {os.path.join('./mlruns', run.info.run_id, 'artifacts')}\")\n"
   ]
  }
 ],
 "metadata": {
  "kernelspec": {
   "display_name": "mlflow-env",
   "language": "python",
   "name": "python3"
  },
  "language_info": {
   "codemirror_mode": {
    "name": "ipython",
    "version": 3
   },
   "file_extension": ".py",
   "mimetype": "text/x-python",
   "name": "python",
   "nbconvert_exporter": "python",
   "pygments_lexer": "ipython3",
   "version": "3.11.13"
  }
 },
 "nbformat": 4,
 "nbformat_minor": 2
}
