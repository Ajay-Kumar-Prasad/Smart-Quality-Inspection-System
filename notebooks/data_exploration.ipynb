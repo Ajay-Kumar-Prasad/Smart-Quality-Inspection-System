{
 "cells": [
  {
   "cell_type": "markdown",
   "metadata": {},
   "source": [
    "# MLflow data tracking"
   ]
  },
  {
   "cell_type": "code",
   "execution_count": 1,
   "metadata": {},
   "outputs": [
    {
     "name": "stdout",
     "output_type": "stream",
     "text": [
      "Dataset logged successfully!\n",
      "Run ID: 94cb37f3e8954bdf92a61537635dc96c\n",
      "Artifacts saved at: ./mlruns/94cb37f3e8954bdf92a61537635dc96c/artifacts/\n"
     ]
    }
   ],
   "source": [
    "import mlflow\n",
    "import os\n",
    "from pathlib import Path\n",
    "from datetime import datetime\n",
    "\n",
    "BASE_DIR = Path(\"/Users/ajayyy/Desktop/Deep_Learning/Smart-Quality-Inspection-System\")\n",
    "\n",
    "# Path to preprocessed dataset\n",
    "DATA_PATH = BASE_DIR / \"data\" / \"processed\"\n",
    "\n",
    "# Check if the folder exists\n",
    "if not DATA_PATH.exists():\n",
    "    raise FileNotFoundError(f\"Processed data folder not found at: {DATA_PATH}\")\n",
    "\n",
    "# Configure MLflow tracking\n",
    "mlflow.set_tracking_uri(\"file:./mlruns\")\n",
    "mlflow.set_experiment(\"data_versioning\")\n",
    "\n",
    "# Version tagging based on timestamp (optional)\n",
    "dataset_version = f\"v1.0_{datetime.now().strftime('%Y%m%d_%H%M%S')}\"\n",
    "\n",
    "# Start MLflow run\n",
    "with mlflow.start_run(run_name=\"dataset_logging\") as run:\n",
    "    mlflow.log_param(\"dataset_version\", dataset_version)\n",
    "    mlflow.log_artifact(str(DATA_PATH))  # Log the entire processed folder\n",
    "\n",
    "    print(f\"Dataset logged successfully!\")\n",
    "    print(f\"Run ID: {run.info.run_id}\")\n",
    "    print(f\"Artifacts saved at: ./mlruns/{run.info.run_id}/artifacts/\")\n"
   ]
  }
 ],
 "metadata": {
  "kernelspec": {
   "display_name": "mlflow-env",
   "language": "python",
   "name": "python3"
  },
  "language_info": {
   "codemirror_mode": {
    "name": "ipython",
    "version": 3
   },
   "file_extension": ".py",
   "mimetype": "text/x-python",
   "name": "python",
   "nbconvert_exporter": "python",
   "pygments_lexer": "ipython3",
   "version": "3.11.13"
  }
 },
 "nbformat": 4,
 "nbformat_minor": 2
}
