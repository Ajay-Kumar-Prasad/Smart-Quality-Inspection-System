{
 "cells": [
  {
   "cell_type": "code",
   "execution_count": null,
   "metadata": {},
   "outputs": [],
   "source": [
    "import cv2\n",
    "import random\n",
    "from pathlib import Path\n",
    "\n",
    "img_dir = Path(\"/Users/ajayyy/Desktop/Deep_Learning/Smart-Quality-Inspection-System/data/processed/MVTEC_AD/images/val\")\n",
    "label_dir = Path(\"/Users/ajayyy/Desktop/Deep_Learning/Smart-Quality-Inspection-System/data/processed/MVTEC_AD/labels/val\")\n",
    "\n",
    "img_path = random.choice(list(img_dir.glob(\"*.png\")))\n",
    "label_path = label_dir / img_path.name.replace(\".png\", \".txt\")\n",
    "\n",
    "img = cv2.imread(str(img_path))\n",
    "h, w = img.shape[:2]\n",
    "\n",
    "with open(label_path) as f:\n",
    "    for line in f:\n",
    "        cls, x, y, bw, bh = map(float, line.split())\n",
    "        x1 = int((x - bw/2) * w)\n",
    "        y1 = int((y - bh/2) * h)\n",
    "        x2 = int((x + bw/2) * w)\n",
    "        y2 = int((y + bh/2) * h)\n",
    "        cv2.rectangle(img, (x1, y1), (x2, y2), (0, 255, 0), 2)\n",
    "\n",
    "cv2.imshow(\"YOLO Labels Check\", img)\n",
    "cv2.waitKey(0)\n",
    "cv2.destroyAllWindows()\n"
   ]
  },
  {
   "cell_type": "code",
   "execution_count": 3,
   "metadata": {},
   "outputs": [
    {
     "name": "stdout",
     "output_type": "stream",
     "text": [
      "Val folder exists: True\n",
      "Val image count: 1725\n"
     ]
    }
   ],
   "source": [
    "from pathlib import Path\n",
    "\n",
    "img_dir = Path(\"/Users/ajayyy/Desktop/Deep_Learning/Smart-Quality-Inspection-System/data/processed/MVTEC_AD/images/val\")\n",
    "print(\"Val folder exists:\", img_dir.exists())\n",
    "print(\"Val image count:\", len(list(img_dir.glob(\"*.png\"))))\n"
   ]
  },
  {
   "cell_type": "code",
   "execution_count": 1,
   "metadata": {},
   "outputs": [
    {
     "name": "stdout",
     "output_type": "stream",
     "text": [
      "Total label files: 1725\n",
      "Empty label files: 467\n",
      "These files are empty:\n",
      "zipper_good_029.txt\n",
      "zipper_good_001.txt\n",
      "capsule_good_017.txt\n",
      "capsule_good_003.txt\n",
      "zipper_good_015.txt\n",
      "hazelnut_good_013.txt\n",
      "hazelnut_good_007.txt\n",
      "wood_good_008.txt\n",
      "transistor_good_003.txt\n",
      "transistor_good_017.txt\n"
     ]
    }
   ],
   "source": [
    "from pathlib import Path\n",
    "\n",
    "label_dir = Path(\"/Users/ajayyy/Desktop/Deep_Learning/Smart-Quality-Inspection-System/data/processed/MVTEC_AD/labels/val\")\n",
    "\n",
    "empty_files = [f for f in label_dir.glob(\"*.txt\") if f.stat().st_size == 0]\n",
    "\n",
    "print(f\"Total label files: {len(list(label_dir.glob('*.txt')))}\")\n",
    "print(f\"Empty label files: {len(empty_files)}\")\n",
    "\n",
    "if empty_files:\n",
    "    print(\"These files are empty:\")\n",
    "    for f in empty_files[:10]:  # show only a few\n",
    "        print(f.name)\n",
    "else:\n",
    "    print(\"All label files contain data.\")\n"
   ]
  }
 ],
 "metadata": {
  "kernelspec": {
   "display_name": "mlflow-env",
   "language": "python",
   "name": "python3"
  },
  "language_info": {
   "codemirror_mode": {
    "name": "ipython",
    "version": 3
   },
   "file_extension": ".py",
   "mimetype": "text/x-python",
   "name": "python",
   "nbconvert_exporter": "python",
   "pygments_lexer": "ipython3",
   "version": "3.11.13"
  }
 },
 "nbformat": 4,
 "nbformat_minor": 2
}
